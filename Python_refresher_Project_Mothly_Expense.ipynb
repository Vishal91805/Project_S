{
 "cells": [
  {
   "cell_type": "code",
   "execution_count": 4,
   "id": "a95e7cbf-3406-4534-a342-7fe11b6d3efd",
   "metadata": {},
   "outputs": [],
   "source": [
    "# Importing CSV library and defining the csv file_name as a global variable\n",
    "import csv\n",
    "file_name = 'Monthly_expense.csv'"
   ]
  },
  {
   "cell_type": "code",
   "execution_count": 9,
   "id": "6744f9eb-8d3c-4a56-8ac0-fedc686ca062",
   "metadata": {},
   "outputs": [],
   "source": [
    "'''\n",
    "Defining the user defined function named Add_expense which asks for the user inputs:\n",
    "1. First it asks for date in format of YYYY-MM-DD\n",
    "2. then it asks for the category of the expense\n",
    "3. Then it asks for the amount of the expense and converts into float format\n",
    "4. Then it asks for the description of expense\n",
    "While Inputs are given by the user dictionary is updated at the same time with the inputs.\n",
    "\n",
    "'''\n",
    "def Add_expense(Expense):\n",
    "    # Asking for inputs and updating the Expense dictionary\n",
    "    Expense['date'].append(input(\"Enter the date of expense in (YYYY-MM-DD) format : \"))\n",
    "    Expense['category'].append(input(\"Enter the category of the expense : \"))\n",
    "    Expense['amount'].append(float(input(\"Enter the expense amount : \")))\n",
    "    Expense['description'].append(input('Enter the description of the expense : '))\n",
    "    # Upon completion of the dictionary input variable writing, printing a statement for user\n",
    "    print('Entry Successful')\n",
    "    "
   ]
  },
  {
   "cell_type": "code",
   "execution_count": 10,
   "id": "5da4084f-8943-4496-a81c-981bd8d35e6c",
   "metadata": {},
   "outputs": [],
   "source": [
    "'''\n",
    "1. Defining the user defined function named View_expenses.\n",
    "2. It reads the Expense dictionary and prints it for the user.\n",
    "3. if there are no expenses registered in the Expense dictionary the function prints No Expenses registered for user.\n",
    "4. else it will print the dictionary only if all the values for the keys are available for the individual expenses, else it will print Inpcomplete data in the entry for the particular data set.\n",
    "\n",
    "'''\n",
    "\n",
    "def View_expenses(Expense):\n",
    "    #checking if the dictionary is empty\n",
    "    if(len(Expense['date'])==0)and(len(Expense['amount'])==0):\n",
    "        #printing statement if dictionary is empty\n",
    "        print(\"No Expenses registered \\n\")\n",
    "    else:\n",
    "        for i in range(len(Expense['date'])):\n",
    "            #checking if values are availabile for keys for all data set\n",
    "            if(len(Expense['date'][i])>0)and(len(Expense['category'][i])>0)and(len(Expense['description'][i])>0):\n",
    "                #printing the dictionary for the particular data set\n",
    "                print(f\"Date: {Expense['date'][i]}, Category: {Expense['category'][i]}, Amount: {Expense['amount'][i]}, Description: {Expense['description'][i]}\")\n",
    "            else:\n",
    "                #printing statement if the data set value is missing for any key\n",
    "                print('Incomplete data in this entry \\n')\n",
    "        print('\\n')"
   ]
  },
  {
   "cell_type": "code",
   "execution_count": 11,
   "id": "1a2672ff-d152-4217-ba8c-2219b5c9cb7a",
   "metadata": {},
   "outputs": [],
   "source": [
    "'''\n",
    "1. Defining the user defined function named Track_budget.\n",
    "2. It calculates the total amount spent by adding up all the amount values from the dictionary.\n",
    "3. prints the total expense.\n",
    "4. Calculates if the monthly budget exceeded or not.\n",
    "5. if the monthly budget is exceeded then a statement will be printed stating that the user has exceeded the budget,\n",
    "else the statement for user is printed stating the available amount.\n",
    "\n",
    "'''\n",
    "\n",
    "def Track_budget(Expense,Budget):\n",
    "    # calculating the total expense and printing statement for the same\n",
    "    total_expense = sum(Expense['amount'])\n",
    "    print('Total Expense : ', total_expense)\n",
    "    #finding if the total expense exceeds the monthly budget\n",
    "    if(total_expense > Budget):\n",
    "        #printing statement if the monthly budget exceeds\n",
    "        print(\"You have exceeded your budget! \\n\")\n",
    "    else:\n",
    "        #printing statement if the budget doesn't exceed\n",
    "        print(f\" You have {Budget-total_expense} left for the month. \\n\")\n",
    "        "
   ]
  },
  {
   "cell_type": "code",
   "execution_count": 8,
   "id": "4838a9db-4b4f-4a8b-91d7-a0c71d933dce",
   "metadata": {},
   "outputs": [],
   "source": [
    "'''\n",
    "1. Defining the user defined function named set_budget.\n",
    "2. it asks the user for the monthly budget value and returns it.\n",
    "\n",
    "'''\n",
    "def set_budget():\n",
    "    #asking for user input for the budget\n",
    "    Budget=float(input('Enter the monthly budget : '))\n",
    "    print('\\n')\n",
    "    #returning the value for budget variable\n",
    "    return(Budget)"
   ]
  },
  {
   "cell_type": "code",
   "execution_count": 14,
   "id": "7d1803b3-ca3a-4156-926f-354c9e7b68ac",
   "metadata": {},
   "outputs": [],
   "source": [
    "'''\n",
    "1. Defining the user defined function named load.\n",
    "2. it will open the file whose name is stored under the file_name variable. \n",
    "if the file exists the further operations are performed otherwise it will give\n",
    "an error stating that the file doesn't exist and it will create a file for the user. \n",
    "3. if the file exist it will append the available data from the csv file to the Expense dictionary.\n",
    "If no entries are found in the csv file then it will print a statement for the user stating that there are no entries and \n",
    "user have to create new entries.\n",
    "\n",
    "'''\n",
    "def load(Expense):\n",
    "    try:\n",
    "        #opening the file\n",
    "        with open(file_name,'r', encoding='utf-8-sig') as file:\n",
    "            temp_dict = csv.DictReader(file)\n",
    "            for i in temp_dict:\n",
    "                #searching for the entries in the csv file\n",
    "                if(len(i['date'])>0)and(len(i['category'])>0)and(len(i['description'])>0):\n",
    "                    #appending the data in Expense dictionary\n",
    "                    Expense['date'].append(i['date'])  \n",
    "                    Expense['category'].append(i['category'])\n",
    "                    Expense['amount'].append(float(i['amount']))\n",
    "                    Expense['description'].append(i['description'])\n",
    "                else:\n",
    "                    #printing statement for the user if the entries are not found in the csv file\n",
    "                    print('No enteries found! Create an entry of an expense \\n')\n",
    "                    break\n",
    "    except FileNotFoundError:\n",
    "        #printing statement if the file not found\n",
    "        print(\"Monthly Expense file doesn't Exist! Creating new file \\n\")"
   ]
  },
  {
   "cell_type": "code",
   "execution_count": 13,
   "id": "4bbd7d5e-ea21-40af-b5d4-fd85687b041a",
   "metadata": {},
   "outputs": [],
   "source": [
    "'''\n",
    "1. Defining the user defined function named Save.\n",
    "2. it will open the file whose name is stored under the file_name variable.\n",
    "3. it will write the data present in the Expense dictionary into the file.\n",
    "\n",
    "'''\n",
    "def Save(Expense):\n",
    "    #opening the file in writing mode\n",
    "    with open(file_name,'w',encoding='utf-8-sig') as file:\n",
    "        writer = csv.writer(file)\n",
    "        #defining the heading's for the csv file\n",
    "        key_list = ['date','category','amount','description']\n",
    "        length = len(Expense[key_list[0]])\n",
    "        writer.writerow(Expense.keys())\n",
    "        #writing every data present in the Expense dictionary into the csv file\n",
    "        for i in range(length):\n",
    "            writer.writerow([Expense[x][i] for x in key_list])\n",
    "        #printing statement for the user after completion of the sriting data in csv file\n",
    "        print('Expenses is been written in the csv file successfully \\n')"
   ]
  },
  {
   "cell_type": "code",
   "execution_count": 15,
   "id": "6916c8a4-357c-454c-9722-e57ff40a8b9e",
   "metadata": {},
   "outputs": [
    {
     "name": "stdin",
     "output_type": "stream",
     "text": [
      "Enter the monthly budget :  100\n"
     ]
    },
    {
     "name": "stdout",
     "output_type": "stream",
     "text": [
      "\n",
      "\n",
      "1. Add expense  \n",
      "2. View expenses \n",
      "3. Track budget \n",
      "4. Save expenses to file \n",
      "5. Exit\n",
      "\n"
     ]
    },
    {
     "name": "stdin",
     "output_type": "stream",
     "text": [
      "Please enter Your Choice :  1\n"
     ]
    },
    {
     "name": "stdout",
     "output_type": "stream",
     "text": [
      "\n",
      "\n"
     ]
    },
    {
     "name": "stdin",
     "output_type": "stream",
     "text": [
      "Enter the date of expense in (YYYY-MM-DD) format :  2024-01-05\n",
      "Enter the category of the expense :  Food\n",
      "Enter the expense amount :  200\n",
      "Enter the description of the expense :  meeting\n"
     ]
    },
    {
     "name": "stdout",
     "output_type": "stream",
     "text": [
      "Entry Successful\n",
      "1. Add expense  \n",
      "2. View expenses \n",
      "3. Track budget \n",
      "4. Save expenses to file \n",
      "5. Exit\n",
      "\n"
     ]
    },
    {
     "name": "stdin",
     "output_type": "stream",
     "text": [
      "Please enter Your Choice :  2\n"
     ]
    },
    {
     "name": "stdout",
     "output_type": "stream",
     "text": [
      "\n",
      "\n",
      "Date: 2020-01-01, Category: food, Amount: 5000.0, Description: team lucn\n",
      "Date: 2024-01-05, Category: Food, Amount: 200.0, Description: meeting\n",
      "\n",
      "\n",
      "1. Add expense  \n",
      "2. View expenses \n",
      "3. Track budget \n",
      "4. Save expenses to file \n",
      "5. Exit\n",
      "\n"
     ]
    },
    {
     "name": "stdin",
     "output_type": "stream",
     "text": [
      "Please enter Your Choice :  3\n"
     ]
    },
    {
     "name": "stdout",
     "output_type": "stream",
     "text": [
      "\n",
      "\n",
      "Total Expense :  5200.0\n",
      "You have exceeded your budget! \n",
      "\n",
      "1. Add expense  \n",
      "2. View expenses \n",
      "3. Track budget \n",
      "4. Save expenses to file \n",
      "5. Exit\n",
      "\n"
     ]
    },
    {
     "name": "stdin",
     "output_type": "stream",
     "text": [
      "Please enter Your Choice :  4\n"
     ]
    },
    {
     "name": "stdout",
     "output_type": "stream",
     "text": [
      "\n",
      "\n",
      "Expenses is been written in the csv file successfully \n",
      "\n",
      "1. Add expense  \n",
      "2. View expenses \n",
      "3. Track budget \n",
      "4. Save expenses to file \n",
      "5. Exit\n",
      "\n"
     ]
    },
    {
     "name": "stdin",
     "output_type": "stream",
     "text": [
      "Please enter Your Choice :  5\n"
     ]
    },
    {
     "name": "stdout",
     "output_type": "stream",
     "text": [
      "\n",
      "\n",
      "Expenses is been written in the csv file successfully \n",
      "\n",
      "Exiting the program \n",
      "\n"
     ]
    }
   ],
   "source": [
    "'''\n",
    "1. This is the main function which contains variable like Expense which is a dictionary which contains all the data about the monthly expense.\n",
    "2. load_expense calls for the load function to load all the available data from csv file to Expense dictionary.\n",
    "3. Budget variable calls budget function.\n",
    "4. then a statement is printed for the user input for the choice of operation user want to perform.\n",
    "5. based on the user choice the function is called and the operations are performed.\n",
    "6. the operations are : 1. Add expense  2. View expenses 3. Track budget 4. Save expenses to file 5. Exit\n",
    "7. if the user enters input as 5. The data is saved and loop ends.\n",
    "8. If user enter the input which is not present the options then a statement is printed stating \n",
    "that the input is not valid and asks user to enter a valid options.\n",
    "\n",
    "'''\n",
    "#variables are defined and functions are called\n",
    "Expense = {'date':[],'category':[],'amount':[],'description':[]}\n",
    "load_expense = load(Expense)\n",
    "Budget = set_budget()\n",
    "#starting of the loop\n",
    "while True:\n",
    "    #printing the options for the user and asking for user input\n",
    "    print(\"1. Add expense  \\n2. View expenses \\n3. Track budget \\n4. Save expenses to file \\n5. Exit\\n\")\n",
    "    Inp_key= int(input(\"Please enter Your Choice : \"))\n",
    "    print(\"\\n\")\n",
    "    if(Inp_key==1):\n",
    "        Add_expense(Expense)\n",
    "    elif(Inp_key==2):\n",
    "        View_expenses(Expense)\n",
    "    elif(Inp_key==3):\n",
    "        Track_budget(Expense,Budget)\n",
    "    elif(Inp_key==4):\n",
    "        Save(Expense)\n",
    "    elif(Inp_key==5):\n",
    "        Save(Expense)\n",
    "        print(\"Exiting the program \\n\")\n",
    "        #breaking the loop if the user input is 5\n",
    "        break\n",
    "    else:\n",
    "        #printing statement for the user if the user input is not valid\n",
    "        print(\"Please Select a Valid option \\n\")\n"
   ]
  },
  {
   "cell_type": "code",
   "execution_count": null,
   "id": "8cae2700-8459-491c-880e-21d9e2f44088",
   "metadata": {},
   "outputs": [],
   "source": []
  },
  {
   "cell_type": "code",
   "execution_count": null,
   "id": "582e8084-8bbd-4f8e-bb87-14c384d93bea",
   "metadata": {},
   "outputs": [],
   "source": []
  }
 ],
 "metadata": {
  "kernelspec": {
   "display_name": "Python 3 (ipykernel)",
   "language": "python",
   "name": "python3"
  },
  "language_info": {
   "codemirror_mode": {
    "name": "ipython",
    "version": 3
   },
   "file_extension": ".py",
   "mimetype": "text/x-python",
   "name": "python",
   "nbconvert_exporter": "python",
   "pygments_lexer": "ipython3",
   "version": "3.11.9"
  }
 },
 "nbformat": 4,
 "nbformat_minor": 5
}
